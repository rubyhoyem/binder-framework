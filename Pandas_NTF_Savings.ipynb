{
 "cells": [
  {
   "cell_type": "code",
   "execution_count": 2,
   "id": "65637cb4",
   "metadata": {},
   "outputs": [],
   "source": [
    "import numpy as np\n",
    "import pandas as pd"
   ]
  },
  {
   "cell_type": "markdown",
   "id": "e6ed8604",
   "metadata": {},
   "source": [
    "How many different companies are represented in the data set?\n",
    "What is the total number of jobs created for businesses in Queens?\n",
    "How many different unique email domains names are there in the data set?\n",
    "Considering only NTAs with at least 5 listed businesses, what is the average total savings and the total jobs created for each NTA?\n",
    "Save your result for the previous question as a CSV file."
   ]
  },
  {
   "cell_type": "code",
   "execution_count": 3,
   "id": "79383851",
   "metadata": {},
   "outputs": [
    {
     "data": {
      "text/html": [
       "<div>\n",
       "<style scoped>\n",
       "    .dataframe tbody tr th:only-of-type {\n",
       "        vertical-align: middle;\n",
       "    }\n",
       "\n",
       "    .dataframe tbody tr th {\n",
       "        vertical-align: top;\n",
       "    }\n",
       "\n",
       "    .dataframe thead th {\n",
       "        text-align: right;\n",
       "    }\n",
       "</style>\n",
       "<table border=\"1\" class=\"dataframe\">\n",
       "  <thead>\n",
       "    <tr style=\"text-align: right;\">\n",
       "      <th></th>\n",
       "      <th>Company Name</th>\n",
       "      <th>company contact</th>\n",
       "      <th>company email</th>\n",
       "      <th>company phone</th>\n",
       "      <th>Address</th>\n",
       "      <th>City</th>\n",
       "      <th>State</th>\n",
       "      <th>Postcode</th>\n",
       "      <th>Industry</th>\n",
       "      <th>Industry descr</th>\n",
       "      <th>...</th>\n",
       "      <th>Savings from beginning receiving benefits</th>\n",
       "      <th>Borough</th>\n",
       "      <th>Latitude</th>\n",
       "      <th>Longitude</th>\n",
       "      <th>Community Board</th>\n",
       "      <th>Council District</th>\n",
       "      <th>Census Tract</th>\n",
       "      <th>BIN</th>\n",
       "      <th>BBL</th>\n",
       "      <th>NTA</th>\n",
       "    </tr>\n",
       "  </thead>\n",
       "  <tbody>\n",
       "    <tr>\n",
       "      <th>0</th>\n",
       "      <td>1 State Street</td>\n",
       "      <td>David Neiburg</td>\n",
       "      <td>eskoblo@energyspec.com</td>\n",
       "      <td>7186779077</td>\n",
       "      <td>1114 Avenue J</td>\n",
       "      <td>Brooklyn</td>\n",
       "      <td>NY</td>\n",
       "      <td>11230</td>\n",
       "      <td>Commercial</td>\n",
       "      <td>35 story building</td>\n",
       "      <td>...</td>\n",
       "      <td>349.78</td>\n",
       "      <td>Brooklyn</td>\n",
       "      <td>40.624784</td>\n",
       "      <td>-73.964920</td>\n",
       "      <td>314.0</td>\n",
       "      <td>44.0</td>\n",
       "      <td>534.0</td>\n",
       "      <td>3179818.0</td>\n",
       "      <td>3.067130e+09</td>\n",
       "      <td>Midwood</td>\n",
       "    </tr>\n",
       "    <tr>\n",
       "      <th>1</th>\n",
       "      <td>100 Church LLC</td>\n",
       "      <td>Edward A. Carroll</td>\n",
       "      <td>NaN</td>\n",
       "      <td>2125663000</td>\n",
       "      <td>100 Church Street</td>\n",
       "      <td>NY</td>\n",
       "      <td>NY</td>\n",
       "      <td>10007</td>\n",
       "      <td>Commercial</td>\n",
       "      <td>21 Floors</td>\n",
       "      <td>...</td>\n",
       "      <td>4423698.05</td>\n",
       "      <td>New York</td>\n",
       "      <td>40.712968</td>\n",
       "      <td>-74.009490</td>\n",
       "      <td>101.0</td>\n",
       "      <td>1.0</td>\n",
       "      <td>21.0</td>\n",
       "      <td>1001409.0</td>\n",
       "      <td>1.001250e+09</td>\n",
       "      <td>SoHo-TriBeCa-Civic Center-Little Italy</td>\n",
       "    </tr>\n",
       "    <tr>\n",
       "      <th>2</th>\n",
       "      <td>100 Wall Investments</td>\n",
       "      <td>Jerry Branam</td>\n",
       "      <td>NaN</td>\n",
       "      <td>2122487160</td>\n",
       "      <td>96 Wall Street</td>\n",
       "      <td>New York</td>\n",
       "      <td>NY</td>\n",
       "      <td>10005</td>\n",
       "      <td>Landlord</td>\n",
       "      <td>NaN</td>\n",
       "      <td>...</td>\n",
       "      <td>1814542.62</td>\n",
       "      <td>New York</td>\n",
       "      <td>40.705052</td>\n",
       "      <td>-74.007199</td>\n",
       "      <td>101.0</td>\n",
       "      <td>1.0</td>\n",
       "      <td>7.0</td>\n",
       "      <td>1000875.0</td>\n",
       "      <td>1.000380e+09</td>\n",
       "      <td>Battery Park City-Lower Manhattan</td>\n",
       "    </tr>\n",
       "    <tr>\n",
       "      <th>3</th>\n",
       "      <td>1-10 Bush Terminal Owner LP</td>\n",
       "      <td>Andrew Kimball</td>\n",
       "      <td>akimball@industrycity.com</td>\n",
       "      <td>3474178429</td>\n",
       "      <td>220 36th St, Suite 2A</td>\n",
       "      <td>Brooklyn</td>\n",
       "      <td>NY</td>\n",
       "      <td>11232</td>\n",
       "      <td>Landlord</td>\n",
       "      <td>Special Eligible Premises for eligible businesses</td>\n",
       "      <td>...</td>\n",
       "      <td>6755.31</td>\n",
       "      <td>Brooklyn</td>\n",
       "      <td>40.656061</td>\n",
       "      <td>-74.007334</td>\n",
       "      <td>307.0</td>\n",
       "      <td>38.0</td>\n",
       "      <td>2.0</td>\n",
       "      <td>3398687.0</td>\n",
       "      <td>3.006950e+09</td>\n",
       "      <td>Sunset Park West</td>\n",
       "    </tr>\n",
       "    <tr>\n",
       "      <th>4</th>\n",
       "      <td>120 Broadway Acquisitions JV, LLC (Ldmk)</td>\n",
       "      <td>Carl Letich</td>\n",
       "      <td>clettich@silvprop.com</td>\n",
       "      <td>2124064020</td>\n",
       "      <td>120 Broadway</td>\n",
       "      <td>New York</td>\n",
       "      <td>NY</td>\n",
       "      <td>10271</td>\n",
       "      <td>Commercial</td>\n",
       "      <td>NaN</td>\n",
       "      <td>...</td>\n",
       "      <td>3293055.08</td>\n",
       "      <td>New York</td>\n",
       "      <td>40.708546</td>\n",
       "      <td>-74.011041</td>\n",
       "      <td>101.0</td>\n",
       "      <td>1.0</td>\n",
       "      <td>7.0</td>\n",
       "      <td>1001026.0</td>\n",
       "      <td>1.000478e+09</td>\n",
       "      <td>Battery Park City-Lower Manhattan</td>\n",
       "    </tr>\n",
       "  </tbody>\n",
       "</table>\n",
       "<p>5 rows × 26 columns</p>\n",
       "</div>"
      ],
      "text/plain": [
       "                               Company Name    company contact  \\\n",
       "0                            1 State Street      David Neiburg   \n",
       "1                            100 Church LLC  Edward A. Carroll   \n",
       "2                      100 Wall Investments       Jerry Branam   \n",
       "3               1-10 Bush Terminal Owner LP     Andrew Kimball   \n",
       "4  120 Broadway Acquisitions JV, LLC (Ldmk)        Carl Letich   \n",
       "\n",
       "               company email company phone                Address      City  \\\n",
       "0     eskoblo@energyspec.com    7186779077          1114 Avenue J  Brooklyn   \n",
       "1                        NaN    2125663000      100 Church Street        NY   \n",
       "2                        NaN    2122487160         96 Wall Street  New York   \n",
       "3  akimball@industrycity.com    3474178429  220 36th St, Suite 2A  Brooklyn   \n",
       "4      clettich@silvprop.com    2124064020           120 Broadway  New York   \n",
       "\n",
       "  State  Postcode    Industry  \\\n",
       "0    NY     11230  Commercial   \n",
       "1    NY     10007  Commercial   \n",
       "2    NY     10005    Landlord   \n",
       "3    NY     11232    Landlord   \n",
       "4    NY     10271  Commercial   \n",
       "\n",
       "                                      Industry descr  ...  \\\n",
       "0                                  35 story building  ...   \n",
       "1                                          21 Floors  ...   \n",
       "2                                                NaN  ...   \n",
       "3  Special Eligible Premises for eligible businesses  ...   \n",
       "4                                                NaN  ...   \n",
       "\n",
       "  Savings from beginning receiving benefits   Borough   Latitude  Longitude  \\\n",
       "0                                    349.78  Brooklyn  40.624784 -73.964920   \n",
       "1                                4423698.05  New York  40.712968 -74.009490   \n",
       "2                                1814542.62  New York  40.705052 -74.007199   \n",
       "3                                   6755.31  Brooklyn  40.656061 -74.007334   \n",
       "4                                3293055.08  New York  40.708546 -74.011041   \n",
       "\n",
       "  Community Board  Council District  Census Tract        BIN           BBL  \\\n",
       "0           314.0              44.0         534.0  3179818.0  3.067130e+09   \n",
       "1           101.0               1.0          21.0  1001409.0  1.001250e+09   \n",
       "2           101.0               1.0           7.0  1000875.0  1.000380e+09   \n",
       "3           307.0              38.0           2.0  3398687.0  3.006950e+09   \n",
       "4           101.0               1.0           7.0  1001026.0  1.000478e+09   \n",
       "\n",
       "                                      NTA  \n",
       "0                                 Midwood  \n",
       "1  SoHo-TriBeCa-Civic Center-Little Italy  \n",
       "2       Battery Park City-Lower Manhattan  \n",
       "3                        Sunset Park West  \n",
       "4       Battery Park City-Lower Manhattan  \n",
       "\n",
       "[5 rows x 26 columns]"
      ]
     },
     "execution_count": 3,
     "metadata": {},
     "output_type": "execute_result"
    }
   ],
   "source": [
    "df = pd.read_csv('Value_of_Energy_Cost_Savings_Program_Savings_for_Businesses_-_FY2020.csv')\n",
    "df.head()"
   ]
  },
  {
   "cell_type": "code",
   "execution_count": 8,
   "id": "b91011d1",
   "metadata": {},
   "outputs": [
    {
     "data": {
      "text/plain": [
       "439"
      ]
     },
     "execution_count": 8,
     "metadata": {},
     "output_type": "execute_result"
    }
   ],
   "source": [
    "df['Company Name'].value_counts().size"
   ]
  },
  {
   "cell_type": "code",
   "execution_count": 14,
   "id": "62c80428",
   "metadata": {},
   "outputs": [
    {
     "name": "stdout",
     "output_type": "stream",
     "text": [
      "439\n"
     ]
    }
   ],
   "source": [
    "print(df['Company Name'].nunique())"
   ]
  },
  {
   "cell_type": "code",
   "execution_count": 15,
   "id": "aacb3fa5",
   "metadata": {},
   "outputs": [
    {
     "data": {
      "text/plain": [
       "(450, 26)"
      ]
     },
     "execution_count": 15,
     "metadata": {},
     "output_type": "execute_result"
    }
   ],
   "source": [
    "df_Queens = df['Borough'] == 'Queens'\n",
    "df.shape"
   ]
  },
  {
   "cell_type": "code",
   "execution_count": 29,
   "id": "6c9c24f3",
   "metadata": {},
   "outputs": [
    {
     "data": {
      "text/plain": [
       "356"
      ]
     },
     "execution_count": 29,
     "metadata": {},
     "output_type": "execute_result"
    }
   ],
   "source": [
    "df['Domain'] = df[\"company email\"].str.split(\"@\", n = 1, expand = True)[1]\n",
    "df['Domain'].nunique()"
   ]
  },
  {
   "cell_type": "code",
   "execution_count": 12,
   "id": "9148ee6d",
   "metadata": {},
   "outputs": [],
   "source": [
    "#df['NTA'].value_counts() >= 5\n",
    "df_ = df.groupby('NTA')['Savings from beginning receiving benefits'].agg(['count','mean'])\n",
    "ind = df_['count'] > 4 \n",
    "df_NTA5 = df_[ind]\n"
   ]
  },
  {
   "cell_type": "code",
   "execution_count": 17,
   "id": "d87b8fae",
   "metadata": {},
   "outputs": [],
   "source": [
    "df_NTA5.to_csv('NTF_MeanSavings.csv')"
   ]
  },
  {
   "cell_type": "markdown",
   "id": "53e7300a",
   "metadata": {},
   "source": [
    "scatter plot of jobs created versus average savings. Use both a standard and a logarithmic scale for the average savings.\n",
    "histogram of the log of the average total savings.\n",
    "line plot of the total jobs created for each month."
   ]
  },
  {
   "cell_type": "code",
   "execution_count": 28,
   "id": "25b18511",
   "metadata": {},
   "outputs": [
    {
     "data": {
      "text/html": [
       "<div>\n",
       "<style scoped>\n",
       "    .dataframe tbody tr th:only-of-type {\n",
       "        vertical-align: middle;\n",
       "    }\n",
       "\n",
       "    .dataframe tbody tr th {\n",
       "        vertical-align: top;\n",
       "    }\n",
       "\n",
       "    .dataframe thead th {\n",
       "        text-align: right;\n",
       "    }\n",
       "</style>\n",
       "<table border=\"1\" class=\"dataframe\">\n",
       "  <thead>\n",
       "    <tr style=\"text-align: right;\">\n",
       "      <th></th>\n",
       "      <th>count</th>\n",
       "      <th>mean</th>\n",
       "      <th>log_mean</th>\n",
       "    </tr>\n",
       "    <tr>\n",
       "      <th>NTA</th>\n",
       "      <th></th>\n",
       "      <th></th>\n",
       "      <th></th>\n",
       "    </tr>\n",
       "  </thead>\n",
       "  <tbody>\n",
       "    <tr>\n",
       "      <th>Battery Park City-Lower Manhattan</th>\n",
       "      <td>9</td>\n",
       "      <td>3.798151e+06</td>\n",
       "      <td>15.150025</td>\n",
       "    </tr>\n",
       "    <tr>\n",
       "      <th>Bushwick South</th>\n",
       "      <td>10</td>\n",
       "      <td>3.078000e+05</td>\n",
       "      <td>12.637206</td>\n",
       "    </tr>\n",
       "    <tr>\n",
       "      <th>Carroll Gardens-Columbia Street-Red Hook</th>\n",
       "      <td>11</td>\n",
       "      <td>1.846839e+05</td>\n",
       "      <td>12.126401</td>\n",
       "    </tr>\n",
       "    <tr>\n",
       "      <th>College Point</th>\n",
       "      <td>7</td>\n",
       "      <td>5.742508e+05</td>\n",
       "      <td>13.260822</td>\n",
       "    </tr>\n",
       "    <tr>\n",
       "      <th>Crown Heights North</th>\n",
       "      <td>9</td>\n",
       "      <td>1.716897e+04</td>\n",
       "      <td>9.750859</td>\n",
       "    </tr>\n",
       "  </tbody>\n",
       "</table>\n",
       "</div>"
      ],
      "text/plain": [
       "                                          count          mean   log_mean\n",
       "NTA                                                                     \n",
       "Battery Park City-Lower Manhattan             9  3.798151e+06  15.150025\n",
       "Bushwick South                               10  3.078000e+05  12.637206\n",
       "Carroll Gardens-Columbia Street-Red Hook     11  1.846839e+05  12.126401\n",
       "College Point                                 7  5.742508e+05  13.260822\n",
       "Crown Heights North                           9  1.716897e+04   9.750859"
      ]
     },
     "execution_count": 28,
     "metadata": {},
     "output_type": "execute_result"
    }
   ],
   "source": [
    "df_NTA5.head()"
   ]
  },
  {
   "cell_type": "code",
   "execution_count": 21,
   "id": "c3d9b9b6",
   "metadata": {},
   "outputs": [
    {
     "data": {
      "image/png": "[encoded data removed]",
      "text/plain": [
       "<Figure size 432x288 with 1 Axes>"
      ]
     },
     "metadata": {},
     "output_type": "display_data"
    }
   ],
   "source": [
    "import matplotlib as mpl\n",
    "import matplotlib.pyplot as plt\n",
    "import seaborn as sns\n",
    "sns.set()\n",
    "\n",
    "sns.scatterplot(x='mean', y='count', data=df_NTA5, marker='+')\n",
    "\n",
    "# Add some formatting to the plot:\n",
    "plt.xlabel('mean savings')\n",
    "plt.ylabel('total jobs')\n",
    "plt.title('Mean Savings by Total Jobs');"
   ]
  },
  {
   "cell_type": "code",
   "execution_count": null,
   "id": "bb779e0a",
   "metadata": {},
   "outputs": [],
   "source": [
    "df_NTA5['log_mean']=np.log(df_NTA5['mean']) "
   ]
  },
  {
   "cell_type": "code",
   "execution_count": 29,
   "id": "4300b436",
   "metadata": {},
   "outputs": [
    {
     "data": {
      "image/png": "[encoded data removed]",
      "text/plain": [
       "<Figure size 432x288 with 1 Axes>"
      ]
     },
     "metadata": {},
     "output_type": "display_data"
    }
   ],
   "source": [
    "\n",
    "sns.scatterplot(x='log_mean', y='count', data=df_NTA5, marker='+')\n",
    "\n",
    "# Add some formatting to the plot:\n",
    "plt.xlabel('mean savings(log)')\n",
    "plt.ylabel('total jobs')\n",
    "plt.title('Mean Savings by Total Jobs');"
   ]
  },
  {
   "cell_type": "code",
   "execution_count": 16,
   "id": "4b404a96",
   "metadata": {},
   "outputs": [
    {
     "data": {
      "image/png": "[encoded data removed]",
      "text/plain": [
       "<Figure size 432x288 with 1 Axes>"
      ]
     },
     "metadata": {
      "needs_background": "light"
     },
     "output_type": "display_data"
    }
   ],
   "source": [
    "plt.hist(np.log(df_NTA5['mean']), bins=10)\n",
    "\n",
    "# Add some formatting to the plot:\n",
    "plt.xlabel('Savings [log $]')\n",
    "plt.ylabel('Number of observations')\n",
    "plt.title('Savings Histogram');"
   ]
  },
  {
   "cell_type": "code",
   "execution_count": null,
   "id": "f2365acb",
   "metadata": {},
   "outputs": [],
   "source": [
    "plt.plot(x, x, label='linear') \n",
    "plt.xlabel('Savings [log $]')\n",
    "plt.ylabel('Number of observations')"
   ]
  }
 ],
 "metadata": {
  "kernelspec": {
   "display_name": "Python 3 (ipykernel)",
   "language": "python",
   "name": "python3"
  },
  "language_info": {
   "codemirror_mode": {
    "name": "ipython",
    "version": 3
   },
   "file_extension": ".py",
   "mimetype": "text/x-python",
   "name": "python",
   "nbconvert_exporter": "python",
   "pygments_lexer": "ipython3",
   "version": "3.9.7"
  }
 },
 "nbformat": 4,
 "nbformat_minor": 5
}
